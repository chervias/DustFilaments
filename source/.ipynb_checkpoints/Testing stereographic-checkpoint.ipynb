{
 "cells": [
  {
   "cell_type": "code",
   "execution_count": 1,
   "metadata": {},
   "outputs": [],
   "source": [
    "import numpy as np\n",
    "import matplotlib.pyplot as pl"
   ]
  },
  {
   "cell_type": "code",
   "execution_count": 2,
   "metadata": {},
   "outputs": [],
   "source": [
    "phi1=[-1.35717987909852566553E+00,-1.36497269750712746372E+00,-1.36497268913617797459E+00,-1.35751322709957644719E+00,-1.35719337339209800142E+00,-1.36497269716826141739E+00,-1.36497268882566147319E+00,-1.35752559252216276064E+00]\n",
    "theta1=[2.37252342642533786687E+00,2.37253859971866765122E+00,2.35559488170638742233E+00,2.35558097139276512166E+00,2.36796855355755875294E+00,2.36798367822016198048E+00,2.35111149125376517333E+00,2.35109762772944330678E+00]\n",
    "phi2=[-1.36497268882566147319E+00,-1.36497268913617797459E+00,-1.36497269716826141739E+00,-1.36497269750712746372E+00,-1.35717987909852566553E+00,-1.35719337339209800142E+00,-1.35752559252216276064E+00]\n",
    "theta2=[2.35111149125376517333E+00,2.35559488170638742233E+00,2.36798367822016198048E+00,2.37253859971866765122E+00,2.37252342642533786687E+00,2.36796855355755875294E+00,2.35109762772944330678E+00]\n",
    "x1=[-2.70643775106143387107E-03,-2.69434912183152313128E-03,-2.66081058843915070275E-03,-2.64842594352581936490E-03,2.58353082143523808678E-03,2.58633373694138650814E-03,2.77133388517709433954E-03,2.77486411381318081801E-03]\n",
    "y1=[1.05793824364826868217E-02,6.09592031281317326546E-03,-6.29289265331781783042E-03,-1.08478909504263597990E-02,6.11012380831163146033E-03,1.05935627191439361849E-02,-1.08330594409471424322E-02,-6.27808415013139144156E-03]\n",
    "x2=[-2.70643775106143387107E-03,-2.69434912183152313128E-03,-2.66081058843915070275E-03,-2.64842594352581936490E-03,2.77133388517709433954E-03,2.77486411381318081801E-03,2.58633373694138650814E-03]\n",
    "y2=[1.05793824364826868217E-02,6.09592031281317326546E-03,-6.29289265331781783042E-03,-1.08478909504263597990E-02,-1.08330594409471424322E-02,-6.27808415013139144156E-03,1.05935627191439361849E-02]"
   ]
  },
  {
   "cell_type": "code",
   "execution_count": 3,
   "metadata": {},
   "outputs": [
    {
     "data": {
      "text/plain": [
       "Text(0, 0.5, 'Y stereographic')"
      ]
     },
     "execution_count": 3,
     "metadata": {},
     "output_type": "execute_result"
    },
    {
     "data": {
      "image/png": "[encoded data removed]",
      "text/plain": [
       "<Figure size 432x288 with 1 Axes>"
      ]
     },
     "metadata": {
      "needs_background": "light"
     },
     "output_type": "display_data"
    }
   ],
   "source": [
    "pl.scatter(x1,y1)\n",
    "pl.scatter(x2,y2,marker='*')\n",
    "pl.plot(x2,y2)\n",
    "pl.gca().set_xlabel('X stereographic')\n",
    "pl.gca().set_ylabel('Y stereographic')"
   ]
  },
  {
   "cell_type": "code",
   "execution_count": 4,
   "metadata": {},
   "outputs": [
    {
     "data": {
      "text/plain": [
       "Text(0, 0.5, 'Latitude')"
      ]
     },
     "execution_count": 4,
     "metadata": {},
     "output_type": "execute_result"
    },
    {
     "data": {
      "image/png": "[encoded data removed]",
      "text/plain": [
       "<Figure size 432x288 with 1 Axes>"
      ]
     },
     "metadata": {
      "needs_background": "light"
     },
     "output_type": "display_data"
    }
   ],
   "source": [
    "pl.scatter(phi1,theta1)\n",
    "pl.scatter(phi2,theta2,marker='*')\n",
    "pl.plot(phi2,theta2)\n",
    "pl.gca().set_xlabel('Longitude')\n",
    "pl.gca().set_ylabel('Latitude')"
   ]
  },
  {
   "cell_type": "code",
   "execution_count": 5,
   "metadata": {},
   "outputs": [],
   "source": [
    "# Python3 program to implement\n",
    "# the above approach\n",
    "\n",
    "# Utility function to find cross product\n",
    "# of two vectors\n",
    "def CrossProduct(A):\n",
    "\t\n",
    "\t# Stores cofficient of X\n",
    "\t# direction of vector A[1]A[0]\n",
    "\tX1 = (A[1][0] - A[0][0])\n",
    "\n",
    "\t# Stores cofficient of Y\n",
    "\t# direction of vector A[1]A[0]\n",
    "\tY1 = (A[1][1] - A[0][1])\n",
    "\n",
    "\t# Stores cofficient of X\n",
    "\t# direction of vector A[2]A[0]\n",
    "\tX2 = (A[2][0] - A[0][0])\n",
    "\n",
    "\t# Stores cofficient of Y\n",
    "\t# direction of vector A[2]A[0]\n",
    "\tY2 = (A[2][1] - A[0][1])\n",
    "\n",
    "\t# Return cross product\n",
    "\treturn (X1 * Y2 - Y1 * X2)\n",
    "\n",
    "# Function to check if the polygon is\n",
    "# convex polygon or not\n",
    "def isConvex(points):\n",
    "\t\n",
    "\t# Stores count of\n",
    "\t# edges in polygon\n",
    "\tN = len(points)\n",
    "\n",
    "\t# Stores direction of cross product\n",
    "\t# of previous traversed edges\n",
    "\tprev = 0\n",
    "\n",
    "\t# Stores direction of cross product\n",
    "\t# of current traversed edges\n",
    "\tcurr = 0\n",
    "\n",
    "\t# Traverse the array\n",
    "\tfor i in range(N):\n",
    "\t\t\n",
    "\t\t# Stores three adjacent edges\n",
    "\t\t# of the polygon\n",
    "\t\ttemp = [points[i], points[(i + 1) % N], \n",
    "\t\t\t\t\t\tpoints[(i + 2) % N]]\n",
    "\n",
    "\t\t# Update curr\n",
    "\t\tcurr = CrossProduct(temp)\n",
    "\n",
    "\t\t# If curr is not equal to 0\n",
    "\t\tif (curr != 0):\n",
    "\t\t\t\n",
    "\t\t\t# If direction of cross product of\n",
    "\t\t\t# all adjacent edges are not same\n",
    "\t\t\tif (curr * prev < 0):\n",
    "\t\t\t\treturn False\n",
    "\t\t\telse:\n",
    "\t\t\t\t\n",
    "\t\t\t\t# Update curr\n",
    "\t\t\t\tprev = curr\n",
    "\n",
    "\treturn True"
   ]
  },
  {
   "cell_type": "code",
   "execution_count": 6,
   "metadata": {},
   "outputs": [],
   "source": [
    "points_mercator = np.array([x2,y2]).T\n",
    "points_phi_theta = np.array([phi2,theta2]).T\n",
    "#print(points_phi_theta.shape)"
   ]
  },
  {
   "cell_type": "code",
   "execution_count": 7,
   "metadata": {},
   "outputs": [
    {
     "data": {
      "text/plain": [
       "True"
      ]
     },
     "execution_count": 7,
     "metadata": {},
     "output_type": "execute_result"
    }
   ],
   "source": [
    "isConvex(points_mercator)"
   ]
  },
  {
   "cell_type": "code",
   "execution_count": 8,
   "metadata": {},
   "outputs": [
    {
     "data": {
      "text/plain": [
       "False"
      ]
     },
     "execution_count": 8,
     "metadata": {},
     "output_type": "execute_result"
    }
   ],
   "source": [
    "isConvex(points_phi_theta)"
   ]
  },
  {
   "cell_type": "code",
   "execution_count": null,
   "metadata": {},
   "outputs": [],
   "source": []
  }
 ],
 "metadata": {
  "kernelspec": {
   "display_name": "Python 3",
   "language": "python",
   "name": "python3"
  },
  "language_info": {
   "codemirror_mode": {
    "name": "ipython",
    "version": 3
   },
   "file_extension": ".py",
   "mimetype": "text/x-python",
   "name": "python",
   "nbconvert_exporter": "python",
   "pygments_lexer": "ipython3",
   "version": "3.7.8"
  }
 },
 "nbformat": 4,
 "nbformat_minor": 4
}
