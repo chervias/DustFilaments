{
 "cells": [
  {
   "cell_type": "code",
   "execution_count": 1,
   "metadata": {},
   "outputs": [],
   "source": [
    "import numpy as np\n",
    "import matplotlib.pyplot as pl"
   ]
  },
  {
   "cell_type": "code",
   "execution_count": 2,
   "metadata": {},
   "outputs": [],
   "source": [
    "phi1=[1.48503390362762277555E+00,1.48452814212661765580E+00,1.48166263737292780434E+00,1.48216829472678046642E+00,1.48506047061513335450E+00,1.48455470822629509442E+00,1.48168904604085560628E+00,1.48219470443036960283E+00]\n",
    "theta1=[1.53246504506402314583E+00,1.53244630279262517014E+00,1.53233619067795312496E+00,1.53235487535251557745E+00,1.53176251399551799359E+00,1.53174342786198969257E+00,1.53163540147559373850E+00,1.53165442696168829784E+00]\n",
    "phi2=[1.48166263737292780434E+00,1.48452814212661765580E+00,1.48503390362762277555E+00,1.48506047061513335450E+00,1.48455470822629509442E+00,1.48219470443036960283E+00,1.48168904604085560628E+00]\n",
    "theta2=[1.53233619067795312496E+00,1.53244630279262517014E+00,1.53246504506402314583E+00,1.53176251399551799359E+00,1.53174342786198969257E+00,1.53165442696168829784E+00,1.53163540147559373850E+00]\n",
    "x1=[-1.69678451248711503752E-03,-1.67037584455931309435E-03,-1.19112715863445295383E-03,-1.16471745504531654092E-03,1.16872024120273643177E-03,1.19528634088017504666E-03,1.67448174220785617194E-03,1.70104872971843512630E-03]\n",
    "y1=[3.84696212153268421452E-02,3.91709385479487651183E-02,3.84509227199452754964E-02,3.91518984710877288036E-02,3.83594278457221743439E-02,3.90628295037208569940E-02,3.83406717902587956814E-02,3.90437288136518192982E-02]\n",
    "x2=[-1.69678451248711503752E-03,1.16872024120273643177E-03,1.67448174220785617194E-03,1.70104872971843512630E-03,1.19528634088017504666E-03,-1.16471745504531654092E-03,-1.67037584455931309435E-03]\n",
    "y2=[3.84696212153268421452E-02,3.83594278457221743439E-02,3.83406717902587956814E-02,3.90437288136518192982E-02,3.90628295037208569940E-02,3.91518984710877288036E-02,3.91709385479487651183E-02]"
   ]
  },
  {
   "cell_type": "code",
   "execution_count": 3,
   "metadata": {},
   "outputs": [
    {
     "data": {
      "text/plain": [
       "Text(0, 0.5, 'Y mercator')"
      ]
     },
     "execution_count": 3,
     "metadata": {},
     "output_type": "execute_result"
    },
    {
     "data": {
      "image/png": "[encoded data removed]",
      "text/plain": [
       "<Figure size 432x288 with 1 Axes>"
      ]
     },
     "metadata": {
      "needs_background": "light"
     },
     "output_type": "display_data"
    }
   ],
   "source": [
    "pl.scatter(x1,y1)\n",
    "pl.scatter(x2,y2,marker='*')\n",
    "pl.plot(x2,y2)\n",
    "pl.gca().set_xlabel('X mercator')\n",
    "pl.gca().set_ylabel('Y mercator')"
   ]
  },
  {
   "cell_type": "code",
   "execution_count": 4,
   "metadata": {},
   "outputs": [
    {
     "data": {
      "text/plain": [
       "Text(0, 0.5, 'Latitude')"
      ]
     },
     "execution_count": 4,
     "metadata": {},
     "output_type": "execute_result"
    },
    {
     "data": {
      "image/png": "[encoded data removed]",
      "text/plain": [
       "<Figure size 432x288 with 1 Axes>"
      ]
     },
     "metadata": {
      "needs_background": "light"
     },
     "output_type": "display_data"
    }
   ],
   "source": [
    "pl.scatter(phi1,theta1)\n",
    "pl.scatter(phi2,theta2,marker='*')\n",
    "pl.plot(phi2,theta2)\n",
    "pl.gca().set_xlabel('Longitude')\n",
    "pl.gca().set_ylabel('Latitude')"
   ]
  },
  {
   "cell_type": "code",
   "execution_count": 11,
   "metadata": {},
   "outputs": [
    {
     "ename": "RuntimeError",
     "evalue": "Unknown exception",
     "output_type": "error",
     "traceback": [
      "\u001b[0;31m---------------------------------------------------------------------------\u001b[0m",
      "\u001b[0;31mRuntimeError\u001b[0m                              Traceback (most recent call last)",
      "\u001b[0;32m<ipython-input-11-6b6f5dbf5cdc>\u001b[0m in \u001b[0;36m<module>\u001b[0;34m\u001b[0m\n\u001b[1;32m      3\u001b[0m \u001b[0;32mfor\u001b[0m \u001b[0mn\u001b[0m \u001b[0;32min\u001b[0m \u001b[0mrange\u001b[0m\u001b[0;34m(\u001b[0m\u001b[0;36m7\u001b[0m\u001b[0;34m)\u001b[0m\u001b[0;34m:\u001b[0m\u001b[0;34m\u001b[0m\u001b[0;34m\u001b[0m\u001b[0m\n\u001b[1;32m      4\u001b[0m     \u001b[0mvertices\u001b[0m\u001b[0;34m[\u001b[0m\u001b[0mn\u001b[0m\u001b[0;34m,\u001b[0m\u001b[0;34m:\u001b[0m\u001b[0;34m]\u001b[0m \u001b[0;34m=\u001b[0m \u001b[0mhp\u001b[0m\u001b[0;34m.\u001b[0m\u001b[0mang2vec\u001b[0m\u001b[0;34m(\u001b[0m\u001b[0mtheta2\u001b[0m\u001b[0;34m[\u001b[0m\u001b[0mn\u001b[0m\u001b[0;34m]\u001b[0m\u001b[0;34m,\u001b[0m\u001b[0mphi2\u001b[0m\u001b[0;34m[\u001b[0m\u001b[0mn\u001b[0m\u001b[0;34m]\u001b[0m\u001b[0;34m)\u001b[0m\u001b[0;34m\u001b[0m\u001b[0;34m\u001b[0m\u001b[0m\n\u001b[0;32m----> 5\u001b[0;31m \u001b[0mpixs\u001b[0m \u001b[0;34m=\u001b[0m \u001b[0mhp\u001b[0m\u001b[0;34m.\u001b[0m\u001b[0mquery_polygon\u001b[0m\u001b[0;34m(\u001b[0m\u001b[0;36m2048\u001b[0m\u001b[0;34m,\u001b[0m\u001b[0mvertices\u001b[0m\u001b[0;34m,\u001b[0m\u001b[0mnest\u001b[0m\u001b[0;34m=\u001b[0m\u001b[0;32mTrue\u001b[0m\u001b[0;34m)\u001b[0m\u001b[0;34m\u001b[0m\u001b[0;34m\u001b[0m\u001b[0m\n\u001b[0m",
      "\u001b[0;32mhealpy/src/_query_disc.pyx\u001b[0m in \u001b[0;36mhealpy._query_disc.query_polygon\u001b[0;34m()\u001b[0m\n",
      "\u001b[0;31mRuntimeError\u001b[0m: Unknown exception"
     ]
    }
   ],
   "source": [
    "import healpy as hp\n",
    "vertices = np.zeros((7,3))\n",
    "for n in range(7):\n",
    "    vertices[n,:] = hp.ang2vec(theta2[n],phi2[n])\n",
    "pixs = hp.query_polygon(2048,vertices,nest=True)"
   ]
  },
  {
   "cell_type": "code",
   "execution_count": 5,
   "metadata": {},
   "outputs": [],
   "source": [
    "# Python3 program to implement\n",
    "# the above approach\n",
    "\n",
    "# Utility function to find cross product\n",
    "# of two vectors\n",
    "def CrossProduct(A):\n",
    "\t\n",
    "\t# Stores cofficient of X\n",
    "\t# direction of vector A[1]A[0]\n",
    "\tX1 = (A[1][0] - A[0][0])\n",
    "\n",
    "\t# Stores cofficient of Y\n",
    "\t# direction of vector A[1]A[0]\n",
    "\tY1 = (A[1][1] - A[0][1])\n",
    "\n",
    "\t# Stores cofficient of X\n",
    "\t# direction of vector A[2]A[0]\n",
    "\tX2 = (A[2][0] - A[0][0])\n",
    "\n",
    "\t# Stores cofficient of Y\n",
    "\t# direction of vector A[2]A[0]\n",
    "\tY2 = (A[2][1] - A[0][1])\n",
    "\n",
    "\t# Return cross product\n",
    "\treturn (X1 * Y2 - Y1 * X2)\n",
    "\n",
    "# Function to check if the polygon is\n",
    "# convex polygon or not\n",
    "def isConvex(points):\n",
    "\t\n",
    "\t# Stores count of\n",
    "\t# edges in polygon\n",
    "\tN = len(points)\n",
    "\n",
    "\t# Stores direction of cross product\n",
    "\t# of previous traversed edges\n",
    "\tprev = 0\n",
    "\n",
    "\t# Stores direction of cross product\n",
    "\t# of current traversed edges\n",
    "\tcurr = 0\n",
    "\n",
    "\t# Traverse the array\n",
    "\tfor i in range(N):\n",
    "\t\t\n",
    "\t\t# Stores three adjacent edges\n",
    "\t\t# of the polygon\n",
    "\t\ttemp = [points[i], points[(i + 1) % N], \n",
    "\t\t\t\t\t\tpoints[(i + 2) % N]]\n",
    "\n",
    "\t\t# Update curr\n",
    "\t\tcurr = CrossProduct(temp)\n",
    "\n",
    "\t\t# If curr is not equal to 0\n",
    "\t\tif (curr != 0):\n",
    "\t\t\t\n",
    "\t\t\t# If direction of cross product of\n",
    "\t\t\t# all adjacent edges are not same\n",
    "\t\t\tif (curr * prev < 0):\n",
    "\t\t\t\treturn False\n",
    "\t\t\telse:\n",
    "\t\t\t\t\n",
    "\t\t\t\t# Update curr\n",
    "\t\t\t\tprev = curr\n",
    "\n",
    "\treturn True"
   ]
  },
  {
   "cell_type": "code",
   "execution_count": 6,
   "metadata": {},
   "outputs": [
    {
     "name": "stdout",
     "output_type": "stream",
     "text": [
      "(7, 2)\n"
     ]
    }
   ],
   "source": [
    "points_mercator = np.array([x2,y2]).T\n",
    "points_phi_theta = np.array([phi2,theta2]).T\n",
    "print(points_phi_theta.shape)"
   ]
  },
  {
   "cell_type": "code",
   "execution_count": 7,
   "metadata": {},
   "outputs": [
    {
     "data": {
      "text/plain": [
       "True"
      ]
     },
     "execution_count": 7,
     "metadata": {},
     "output_type": "execute_result"
    }
   ],
   "source": [
    "isConvex(points_mercator)"
   ]
  },
  {
   "cell_type": "code",
   "execution_count": 8,
   "metadata": {},
   "outputs": [
    {
     "data": {
      "text/plain": [
       "True"
      ]
     },
     "execution_count": 8,
     "metadata": {},
     "output_type": "execute_result"
    }
   ],
   "source": [
    "isConvex(points_phi_theta)"
   ]
  },
  {
   "cell_type": "code",
   "execution_count": null,
   "metadata": {},
   "outputs": [],
   "source": []
  }
 ],
 "metadata": {
  "kernelspec": {
   "display_name": "Python 3",
   "language": "python",
   "name": "python3"
  },
  "language_info": {
   "codemirror_mode": {
    "name": "ipython",
    "version": 3
   },
   "file_extension": ".py",
   "mimetype": "text/x-python",
   "name": "python",
   "nbconvert_exporter": "python",
   "pygments_lexer": "ipython3",
   "version": "3.7.8"
  }
 },
 "nbformat": 4,
 "nbformat_minor": 4
}
